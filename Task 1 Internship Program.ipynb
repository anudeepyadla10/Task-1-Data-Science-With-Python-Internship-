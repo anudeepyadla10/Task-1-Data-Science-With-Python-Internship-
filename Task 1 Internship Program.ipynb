{
 "cells": [
  {
   "cell_type": "markdown",
   "id": "66d3d8cc",
   "metadata": {},
   "source": [
    "# Python Program to create a list,a dictionary,and a set.Perform basic operations like adding,removing and modifying elements"
   ]
  },
  {
   "cell_type": "code",
   "execution_count": 2,
   "id": "b277b3e0",
   "metadata": {},
   "outputs": [
    {
     "name": "stdout",
     "output_type": "stream",
     "text": [
      "my_list [10, 15, 20, 25, 30]\n"
     ]
    }
   ],
   "source": [
    "# Creating a list..\n",
    "my_list=[10,15,20,25,30]\n",
    "print(\"my_list\",my_list)"
   ]
  },
  {
   "cell_type": "code",
   "execution_count": 3,
   "id": "3159b058",
   "metadata": {},
   "outputs": [
    {
     "name": "stdout",
     "output_type": "stream",
     "text": [
      "adding new element [10, 15, 20, 25, 30, 40]\n"
     ]
    }
   ],
   "source": [
    "# Adding Elements to the list..\n",
    "my_list.append(40)\n",
    "print(\"adding new element\",my_list)"
   ]
  },
  {
   "cell_type": "code",
   "execution_count": 4,
   "id": "78e60313",
   "metadata": {},
   "outputs": [
    {
     "name": "stdout",
     "output_type": "stream",
     "text": [
      "after removed element [10, 15, 20, 30, 40]\n"
     ]
    }
   ],
   "source": [
    "# Removing the element from the list..\n",
    "my_list.remove(25)\n",
    "print(\"after removed element\",my_list)"
   ]
  },
  {
   "cell_type": "code",
   "execution_count": 5,
   "id": "7a3eab16",
   "metadata": {},
   "outputs": [
    {
     "name": "stdout",
     "output_type": "stream",
     "text": [
      "modified list [10, 18, 20, 30, 40]\n"
     ]
    }
   ],
   "source": [
    "# Modifying the elements in the list..\n",
    "my_list[1]=18\n",
    "print(\"modified list\",my_list)"
   ]
  },
  {
   "cell_type": "code",
   "execution_count": 6,
   "id": "78b9e97f",
   "metadata": {},
   "outputs": [
    {
     "name": "stdout",
     "output_type": "stream",
     "text": [
      " my dictionary {'Name': 'Justin', 'Age': 20, 'Section': 'Data Science'}\n"
     ]
    }
   ],
   "source": [
    "# Creating a dictionary..\n",
    "my_dict = {'Name': 'Justin', 'Age': 20, 'Section': 'Data Science'}\n",
    "print(\" my dictionary\",my_dict)\n"
   ]
  },
  {
   "cell_type": "code",
   "execution_count": 7,
   "id": "88d1c1bb",
   "metadata": {},
   "outputs": [
    {
     "name": "stdout",
     "output_type": "stream",
     "text": [
      "After Adding a key value pair to the dictionary {'Name': 'Justin', 'Age': 20, 'Section': 'Data Science', 'Gender': 'Male'}\n"
     ]
    }
   ],
   "source": [
    "# Adding a key-value pair to the dictionary...\n",
    "my_dict['Gender'] = 'Male'\n",
    "print(\"After Adding a key value pair to the dictionary\",my_dict)\n"
   ]
  },
  {
   "cell_type": "code",
   "execution_count": 8,
   "id": "e316c261",
   "metadata": {},
   "outputs": [
    {
     "name": "stdout",
     "output_type": "stream",
     "text": [
      " After Removing a key value pair from the dictionary {'Name': 'Justin', 'Age': 20, 'Gender': 'Male'}\n"
     ]
    }
   ],
   "source": [
    "# Removing a key-value pair from the dictionary...\n",
    "del my_dict['Section']\n",
    "print(\" After Removing a key value pair from the dictionary\",my_dict)"
   ]
  },
  {
   "cell_type": "code",
   "execution_count": 9,
   "id": "0fd49d90",
   "metadata": {},
   "outputs": [
    {
     "name": "stdout",
     "output_type": "stream",
     "text": [
      "After Modifying a value in the dictionary {'Name': 'Justin', 'Age': 21, 'Gender': 'Male'}\n"
     ]
    }
   ],
   "source": [
    "# Modifying a value in the dictionary\n",
    "my_dict['Age'] = 21\n",
    "print(\"After Modifying a value in the dictionary\",my_dict)\n"
   ]
  },
  {
   "cell_type": "code",
   "execution_count": 10,
   "id": "56f8eb07",
   "metadata": {},
   "outputs": [
    {
     "name": "stdout",
     "output_type": "stream",
     "text": [
      "New Set {1, 2, 3, 4, 5}\n"
     ]
    }
   ],
   "source": [
    "# Creating a set...\n",
    "my_set = {1, 2, 3, 4, 5}\n",
    "print(\"New Set\",my_set)\n"
   ]
  },
  {
   "cell_type": "code",
   "execution_count": 11,
   "id": "99da1f3e",
   "metadata": {},
   "outputs": [
    {
     "name": "stdout",
     "output_type": "stream",
     "text": [
      "Adding an element to the set {1, 2, 3, 4, 5, 6}\n"
     ]
    }
   ],
   "source": [
    "# Adding an element to the set..\n",
    "my_set.add(6)\n",
    "print(\"Adding an element to the set\",my_set)\n"
   ]
  },
  {
   "cell_type": "code",
   "execution_count": 12,
   "id": "8446752c",
   "metadata": {},
   "outputs": [
    {
     "name": "stdout",
     "output_type": "stream",
     "text": [
      " After Removing an element from the set {1, 2, 4, 5, 6}\n"
     ]
    }
   ],
   "source": [
    "# Removing an element from the set...\n",
    "my_set.remove(3) \n",
    "print(\" After Removing an element from the set\",my_set)"
   ]
  },
  {
   "cell_type": "code",
   "execution_count": null,
   "id": "ca0d7978",
   "metadata": {},
   "outputs": [],
   "source": []
  }
 ],
 "metadata": {
  "kernelspec": {
   "display_name": "Python 3 (ipykernel)",
   "language": "python",
   "name": "python3"
  },
  "language_info": {
   "codemirror_mode": {
    "name": "ipython",
    "version": 3
   },
   "file_extension": ".py",
   "mimetype": "text/x-python",
   "name": "python",
   "nbconvert_exporter": "python",
   "pygments_lexer": "ipython3",
   "version": "3.11.4"
  }
 },
 "nbformat": 4,
 "nbformat_minor": 5
}
